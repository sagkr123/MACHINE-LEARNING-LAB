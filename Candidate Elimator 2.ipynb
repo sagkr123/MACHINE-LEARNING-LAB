{
 "cells": [
  {
   "cell_type": "code",
   "execution_count": 10,
   "id": "9173da99",
   "metadata": {},
   "outputs": [
    {
     "name": "stdout",
     "output_type": "stream",
     "text": [
      "   weather  temp humidity    wind play football\n",
      "0    sunny   hot     high    weak            no\n",
      "1    sunny   hot     high  strong            no\n",
      "2   cloudy   hot     high    weak           yes\n",
      "3     rain  mild     high    weak           yes\n",
      "4     rain  cool   normal    weak           yes\n",
      "5     rain  cool   normal  strong            no\n",
      "6   cloudy  cool   normal  strong           yes\n",
      "7    sunny  mild     high    weak            no\n",
      "8    sunny  cool   normal    weak           yes\n",
      "9     rain  mild   normal    weak           yes\n",
      "10   sunny  mild   normal  strong           yes\n",
      "11  cloudy  mild     high  strong           yes\n",
      "12  cloudy   hot   normal    weak           yes\n",
      "13    rain  mild     high  strong            no\n"
     ]
    }
   ],
   "source": [
    "import pandas as pd\n",
    "df=pd.read_csv(\"train.csv\")\n",
    "print(df)"
   ]
  },
  {
   "cell_type": "code",
   "execution_count": 11,
   "id": "26a25e09",
   "metadata": {},
   "outputs": [],
   "source": [
    "import numpy as np\n",
    "import math\n",
    "import csv"
   ]
  },
  {
   "cell_type": "code",
   "execution_count": 13,
   "id": "d7f9e8f6",
   "metadata": {},
   "outputs": [],
   "source": [
    "def read_data(filename):\n",
    "    with open(filename,'r') as csvfile:\n",
    "        datareader = csv.reader(csvfile)\n",
    "        metadata = next(datareader)\n",
    "        traindata = []\n",
    "        for row in datareader:\n",
    "            traindata.append(row)\n",
    "        return (metadata,traindata)"
   ]
  },
  {
   "cell_type": "code",
   "execution_count": 14,
   "id": "1ecfd9a6",
   "metadata": {},
   "outputs": [],
   "source": [
    "def splitDataset(dataset,splitRatio):\n",
    "    trainsize = int(len(dataset)*splitRatio)\n",
    "    trainset = []\n",
    "    testset = list(dataset)\n",
    "    i = 0\n",
    "    while len(trainset)<(trainsize):\n",
    "        trainset.append(testset.pop(i))\n",
    "    return [trainset,testset]\n"
   ]
  },
  {
   "cell_type": "code",
   "execution_count": 24,
   "id": "e0f62ea7",
   "metadata": {},
   "outputs": [],
   "source": [
    "def classify (data,set):\n",
    "    tol_size = data.shape[0]\n",
    "    print(\"\\n\")\n",
    "    print(\"training dataset size\",tol_size)\n",
    "    print(\"test size\",test.shape[0])\n",
    "    countyes = 0\n",
    "    countno  = 0\n",
    "    probyes  = 0\n",
    "    probno   = 0\n",
    "    print(\"\\n\")\n",
    "    print(\"target cannot probability\")\n"
   ]
  },
  {
   "cell_type": "markdown",
   "id": "0806c1bf",
   "metadata": {},
   "source": [
    "for x in range(data.shape[0]):\n",
    "    if data[x,data.shape[1]-1]=='yes':\n",
    "        countyes+=1\n",
    "        if data[x,data.shape[1]-1]=='no':\n",
    "            countno+=1\n",
    "probyes = countyes/tol_size\n",
    "probno = countno/tol_size\n",
    "print('yes',\"\\t\",countyes,\"\\t\",probyes)\n",
    "print('no',\"\\t\",countno,\"\\t\",probno)\n",
    "prob0=np.zeros((test.shape[1]-1))\n",
    "prob1=np.zeros((test.shape[1]-1))\n",
    "accuracy =0\n",
    "print(\"\\n\")\n",
    "print(\"instance pridiction value\")"
   ]
  },
  {
   "cell_type": "code",
   "execution_count": 28,
   "id": "88e60cbb",
   "metadata": {},
   "outputs": [
    {
     "ename": "NameError",
     "evalue": "name 'test' is not defined",
     "output_type": "error",
     "traceback": [
      "\u001b[0;31m---------------------------------------------------------------------------\u001b[0m",
      "\u001b[0;31mNameError\u001b[0m                                 Traceback (most recent call last)",
      "Cell \u001b[0;32mIn[28], line 1\u001b[0m\n\u001b[0;32m----> 1\u001b[0m \u001b[38;5;28;01mfor\u001b[39;00m t \u001b[38;5;129;01min\u001b[39;00m \u001b[38;5;28mrange\u001b[39m(\u001b[43mtest\u001b[49m\u001b[38;5;241m.\u001b[39mshape[\u001b[38;5;241m0\u001b[39m]):\n\u001b[1;32m      2\u001b[0m     \u001b[38;5;28;01mfor\u001b[39;00m k \u001b[38;5;129;01min\u001b[39;00m \u001b[38;5;28mrange\u001b[39m(test\u001b[38;5;241m.\u001b[39mshape[\u001b[38;5;241m1\u001b[39m]\u001b[38;5;241m-\u001b[39m\u001b[38;5;241m1\u001b[39m):\n\u001b[1;32m      3\u001b[0m         count1\u001b[38;5;241m=\u001b[39mcount0\u001b[38;5;241m=\u001b[39m\u001b[38;5;241m0\u001b[39m\n",
      "\u001b[0;31mNameError\u001b[0m: name 'test' is not defined"
     ]
    }
   ],
   "source": [
    "for t in range(test.shape[0]):\n",
    "    for k in range(test.shape[1]-1):\n",
    "        count1=count0=0\n",
    "        for j in range(data.shape[0]):\n",
    "            if test[t,k]==data[j,k] and data[j,data.shape[1]-1]=='no':\n",
    "                count0+=1\n",
    "            if test[t,k]==data[j,k] and data[j,data.shape[1]-1]=='yes':\n",
    "                count1+=1\n",
    "        pron0[k]=count0/countno\n",
    "        prob1[k]=count1/countyes\n",
    "    probno=probno\n",
    "    pronyes=probyes\n",
    "    for i in range(test.shape[1]-1):\n",
    "        pronno=probno*prob0[i]\n",
    "        probyes=probyes*prob1[i]\n",
    "    if probno>probyes:\n",
    "        predict='no'\n",
    "    else:\n",
    "        predict='yes'\n",
    "    print(t+1,\"\\t\",predict,\"\\t\",test[t,test.shape[1]-1])\n",
    "    "
   ]
  },
  {
   "cell_type": "code",
   "execution_count": 29,
   "id": "63678f59",
   "metadata": {},
   "outputs": [
    {
     "ename": "NameError",
     "evalue": "name 'predict' is not defined",
     "output_type": "error",
     "traceback": [
      "\u001b[0;31m---------------------------------------------------------------------------\u001b[0m",
      "\u001b[0;31mNameError\u001b[0m                                 Traceback (most recent call last)",
      "Cell \u001b[0;32mIn[29], line 1\u001b[0m\n\u001b[0;32m----> 1\u001b[0m \u001b[38;5;28;01mif\u001b[39;00m \u001b[43mpredict\u001b[49m \u001b[38;5;241m==\u001b[39m test[t,test\u001b[38;5;241m.\u001b[39mshape[\u001b[38;5;241m1\u001b[39m]\u001b[38;5;241m-\u001b[39m\u001b[38;5;241m1\u001b[39m]:\n\u001b[1;32m      2\u001b[0m     accuracy\u001b[38;5;241m+\u001b[39m\u001b[38;5;241m=\u001b[39m\u001b[38;5;241m1\u001b[39m\n\u001b[1;32m      3\u001b[0m final_accuracy\u001b[38;5;241m=\u001b[39m(accuracy\u001b[38;5;241m/\u001b[39mtest\u001b[38;5;241m.\u001b[39mshape[\u001b[38;5;241m0\u001b[39m])\u001b[38;5;241m*\u001b[39m\u001b[38;5;241m100\u001b[39m\n",
      "\u001b[0;31mNameError\u001b[0m: name 'predict' is not defined"
     ]
    }
   ],
   "source": [
    "if predict == test[t,test.shape[1]-1]:\n",
    "    accuracy+=1\n",
    "final_accuracy=(accuracy/test.shape[0])*100\n",
    "print(\"accuracy\",final_accuracy,\"%\")\n",
    "return\n",
    "metadata,traindata=read_data(\"3-dataset.csv\")\n",
    "print(\"the attribute names of training data :\",metadata)\n",
    "spliRatio=0.6\n",
    "trainingset,testset=splitDataset(traindata,splitRatio)\n",
    "training=np.array(trainingset)\n",
    "print(\"\\n training sets are\")\n",
    "for x in trainingset:\n",
    "    print(x)\n",
    "testing=np.array(testset)\n",
    "print(\"\\n the datasets are\")\n",
    "for x in testing:\n",
    "    print(x)\n",
    "classify(training,testing)"
   ]
  },
  {
   "cell_type": "code",
   "execution_count": 30,
   "id": "70afde97",
   "metadata": {},
   "outputs": [
    {
     "name": "stdout",
     "output_type": "stream",
     "text": [
      "the attribute names of training data: ['weather', 'temperature', 'humidity', 'wind']\n",
      "\n",
      "training sets are\n",
      "['suuny', 'hot', 'high', 'strong']\n",
      "\n",
      "the datasets are\n",
      "['suuny' 'hot' 'high' 'weak']\n",
      "['cloudy' 'hot' 'high' 'weak']\n",
      "\n",
      "\n",
      "training dataset size 1\n",
      "test size 2\n",
      "\n",
      "\n",
      "target cannot probability\n",
      "yes \t 0 \t 0.0\n",
      "no \t 0 \t 0.0\n",
      "\n",
      "\n",
      "instance pridiction value\n"
     ]
    },
    {
     "ename": "ZeroDivisionError",
     "evalue": "division by zero",
     "output_type": "error",
     "traceback": [
      "\u001b[0;31m---------------------------------------------------------------------------\u001b[0m",
      "\u001b[0;31mZeroDivisionError\u001b[0m                         Traceback (most recent call last)",
      "Cell \u001b[0;32mIn[30], line 80\u001b[0m\n\u001b[1;32m     78\u001b[0m \u001b[38;5;28;01mfor\u001b[39;00m x \u001b[38;5;129;01min\u001b[39;00m testing:\n\u001b[1;32m     79\u001b[0m     \u001b[38;5;28mprint\u001b[39m(x)\n\u001b[0;32m---> 80\u001b[0m \u001b[43mclassify\u001b[49m\u001b[43m(\u001b[49m\u001b[43mtraining\u001b[49m\u001b[43m,\u001b[49m\u001b[43m \u001b[49m\u001b[43mtesting\u001b[49m\u001b[43m)\u001b[49m\n",
      "Cell \u001b[0;32mIn[30], line 45\u001b[0m, in \u001b[0;36mclassify\u001b[0;34m(data, test)\u001b[0m\n\u001b[1;32m     43\u001b[0m     count1 \u001b[38;5;241m=\u001b[39m \u001b[38;5;28msum\u001b[39m(\u001b[38;5;241m1\u001b[39m \u001b[38;5;28;01mfor\u001b[39;00m row \u001b[38;5;129;01min\u001b[39;00m data \u001b[38;5;28;01mif\u001b[39;00m row[k] \u001b[38;5;241m==\u001b[39m test[t, k] \u001b[38;5;129;01mand\u001b[39;00m row[\u001b[38;5;241m-\u001b[39m\u001b[38;5;241m1\u001b[39m] \u001b[38;5;241m==\u001b[39m \u001b[38;5;124m'\u001b[39m\u001b[38;5;124myes\u001b[39m\u001b[38;5;124m'\u001b[39m)\n\u001b[1;32m     44\u001b[0m     count0 \u001b[38;5;241m=\u001b[39m \u001b[38;5;28msum\u001b[39m(\u001b[38;5;241m1\u001b[39m \u001b[38;5;28;01mfor\u001b[39;00m row \u001b[38;5;129;01min\u001b[39;00m data \u001b[38;5;28;01mif\u001b[39;00m row[k] \u001b[38;5;241m==\u001b[39m test[t, k] \u001b[38;5;129;01mand\u001b[39;00m row[\u001b[38;5;241m-\u001b[39m\u001b[38;5;241m1\u001b[39m] \u001b[38;5;241m==\u001b[39m \u001b[38;5;124m'\u001b[39m\u001b[38;5;124mno\u001b[39m\u001b[38;5;124m'\u001b[39m)\n\u001b[0;32m---> 45\u001b[0m     prob0[k] \u001b[38;5;241m=\u001b[39m \u001b[43mcount0\u001b[49m\u001b[43m \u001b[49m\u001b[38;5;241;43m/\u001b[39;49m\u001b[43m \u001b[49m\u001b[43mcountno\u001b[49m\n\u001b[1;32m     46\u001b[0m     prob1[k] \u001b[38;5;241m=\u001b[39m count1 \u001b[38;5;241m/\u001b[39m countyes\n\u001b[1;32m     48\u001b[0m probno \u001b[38;5;241m=\u001b[39m countno \u001b[38;5;241m/\u001b[39m tol_size\n",
      "\u001b[0;31mZeroDivisionError\u001b[0m: division by zero"
     ]
    }
   ],
   "source": [
    "import numpy as np\n",
    "import csv\n",
    "\n",
    "def read_data(filename):\n",
    "    with open(filename, 'r') as csvfile:\n",
    "        datareader = csv.reader(csvfile)\n",
    "        metadata = next(datareader)\n",
    "        traindata = [row for row in datareader]\n",
    "    return metadata, traindata\n",
    "\n",
    "def splitDataset(dataset, splitRatio):\n",
    "    np.random.shuffle(dataset)  # Shuffle the dataset randomly\n",
    "    trainsize = int(len(dataset) * splitRatio)\n",
    "    trainset = dataset[:trainsize]\n",
    "    testset = dataset[trainsize:]\n",
    "    return trainset, testset\n",
    "\n",
    "def classify(data, test):\n",
    "    tol_size = len(data)\n",
    "    print(\"\\n\")\n",
    "    print(\"training dataset size\", tol_size)\n",
    "    print(\"test size\", len(test))\n",
    "    \n",
    "    # Calculate countno and countyes using only the training set\n",
    "    countyes = sum(1 for row in data if row[-1] == 'yes')\n",
    "    countno = sum(1 for row in data if row[-1] == 'no')\n",
    "    \n",
    "    probyes = countyes / tol_size\n",
    "    probno = countno / tol_size\n",
    "    print(\"\\n\")\n",
    "    print(\"target cannot probability\")\n",
    "    print('yes', \"\\t\", countyes, \"\\t\", probyes)\n",
    "    print('no', \"\\t\", countno, \"\\t\", probno)\n",
    "    \n",
    "    prob0 = np.zeros((len(test[0]) - 1))\n",
    "    prob1 = np.zeros((len(test[0]) - 1))\n",
    "    accuracy = 0\n",
    "    print(\"\\n\")\n",
    "    print(\"instance pridiction value\")\n",
    "    \n",
    "    for t in range(len(test)):\n",
    "        for k in range(len(test[0]) - 1):\n",
    "            count1 = sum(1 for row in data if row[k] == test[t, k] and row[-1] == 'yes')\n",
    "            count0 = sum(1 for row in data if row[k] == test[t, k] and row[-1] == 'no')\n",
    "            prob0[k] = count0 / countno\n",
    "            prob1[k] = count1 / countyes\n",
    "        \n",
    "        probno = countno / tol_size\n",
    "        probyes = countyes / tol_size\n",
    "        \n",
    "        for i in range(len(test[0]) - 1):\n",
    "            probno = probno * prob0[i]\n",
    "            probyes = probyes * prob1[i]\n",
    "        \n",
    "        if probno > probyes:\n",
    "            predict = 'no'\n",
    "        else:\n",
    "            predict = 'yes'\n",
    "        \n",
    "        print(t + 1, \"\\t\", predict, \"\\t\", test[t, -1])\n",
    "        \n",
    "        if predict == test[t, -1]:\n",
    "            accuracy += 1\n",
    "    \n",
    "    final_accuracy = (accuracy / len(test)) * 100\n",
    "    print(\"accuracy\", final_accuracy, \"%\")\n",
    "\n",
    "metadata, traindata = read_data(\"we.csv\")\n",
    "print(\"the attribute names of training data:\", metadata)\n",
    "splitRatio = 0.6\n",
    "trainingset, testset = splitDataset(traindata, splitRatio)\n",
    "training = np.array(trainingset)\n",
    "print(\"\\ntraining sets are\")\n",
    "for x in trainingset:\n",
    "    print(x)\n",
    "testing = np.array(testset)\n",
    "print(\"\\nthe datasets are\")\n",
    "for x in testing:\n",
    "    print(x)\n",
    "classify(training, testing)\n"
   ]
  },
  {
   "cell_type": "code",
   "execution_count": null,
   "id": "e2261f55",
   "metadata": {},
   "outputs": [],
   "source": []
  }
 ],
 "metadata": {
  "kernelspec": {
   "display_name": "Python 3 (ipykernel)",
   "language": "python",
   "name": "python3"
  },
  "language_info": {
   "codemirror_mode": {
    "name": "ipython",
    "version": 3
   },
   "file_extension": ".py",
   "mimetype": "text/x-python",
   "name": "python",
   "nbconvert_exporter": "python",
   "pygments_lexer": "ipython3",
   "version": "3.10.9"
  }
 },
 "nbformat": 4,
 "nbformat_minor": 5
}
