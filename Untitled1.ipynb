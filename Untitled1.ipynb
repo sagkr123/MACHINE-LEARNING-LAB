{
 "cells": [
  {
   "cell_type": "code",
   "execution_count": 1,
   "id": "aabf5b2d",
   "metadata": {},
   "outputs": [],
   "source": [
    "import pandas as pd\n",
    "import numpy as np"
   ]
  },
  {
   "cell_type": "code",
   "execution_count": 2,
   "id": "ecca69b6",
   "metadata": {},
   "outputs": [
    {
     "name": "stdout",
     "output_type": "stream",
     "text": [
      "      time weather      temp company humidity    wind goes\n",
      "0  morning   sunny      warm     yes     mild  strong  yes\n",
      "1  evening   rainy      cold      no     mild  normal   no\n",
      "2  morning   sunny  moderate     yes   normal  normal  yes\n",
      "3  evening   sunny      cold     yes     high  strong  yes\n"
     ]
    }
   ],
   "source": [
    "df = pd.read_csv(\"2.csv\")\n",
    "print(df)"
   ]
  },
  {
   "cell_type": "code",
   "execution_count": 3,
   "id": "7ae49c0d",
   "metadata": {},
   "outputs": [
    {
     "name": "stdout",
     "output_type": "stream",
     "text": [
      "[['morning' 'sunny' 'warm' 'yes' 'mild' 'strong']\n",
      " ['evening' 'rainy' 'cold' 'no' 'mild' 'normal']\n",
      " ['morning' 'sunny' 'moderate' 'yes' 'normal' 'normal']\n",
      " ['evening' 'sunny' 'cold' 'yes' 'high' 'strong']]\n"
     ]
    }
   ],
   "source": [
    "features = np.array(df) [:,:-1]\n",
    "print(features)"
   ]
  },
  {
   "cell_type": "code",
   "execution_count": 4,
   "id": "8cde1b9f",
   "metadata": {},
   "outputs": [
    {
     "data": {
      "text/plain": [
       "(4, 6)"
      ]
     },
     "execution_count": 4,
     "metadata": {},
     "output_type": "execute_result"
    }
   ],
   "source": [
    "features.shape"
   ]
  },
  {
   "cell_type": "code",
   "execution_count": 5,
   "id": "de87cc97",
   "metadata": {},
   "outputs": [
    {
     "name": "stdout",
     "output_type": "stream",
     "text": [
      "['yes' 'no' 'yes' 'yes']\n"
     ]
    }
   ],
   "source": [
    "target = np.array(df) [:,-1]\n",
    "print(target)"
   ]
  },
  {
   "cell_type": "code",
   "execution_count": 8,
   "id": "d8afdc30",
   "metadata": {},
   "outputs": [],
   "source": [
    "for i,val in enumerate(target):\n",
    "    if val ==\"yes\":\n",
    "     hypothesis = features[i].copy()\n",
    "    break\n",
    "    "
   ]
  },
  {
   "cell_type": "code",
   "execution_count": 9,
   "id": "0e6355bd",
   "metadata": {},
   "outputs": [
    {
     "name": "stdout",
     "output_type": "stream",
     "text": [
      "['morning' 'sunny' 'warm' 'yes' 'mild' 'strong']\n"
     ]
    }
   ],
   "source": [
    "print(hypothesis)"
   ]
  },
  {
   "cell_type": "code",
   "execution_count": 11,
   "id": "2a74c8cd",
   "metadata": {},
   "outputs": [],
   "source": [
    "for i,val in enumerate(features):\n",
    "    if target [i]=='yes':\n",
    "        for x in range (len(hypothesis)):\n",
    "            if val [x]!=hypothesis[x]:\n",
    "                hypothesis[x]='?'"
   ]
  },
  {
   "cell_type": "code",
   "execution_count": 12,
   "id": "da96b5ad",
   "metadata": {},
   "outputs": [
    {
     "name": "stdout",
     "output_type": "stream",
     "text": [
      "['?' 'sunny' '?' 'yes' '?' '?']\n"
     ]
    }
   ],
   "source": [
    "print(hypothesis)"
   ]
  },
  {
   "cell_type": "code",
   "execution_count": null,
   "id": "09fdfd57",
   "metadata": {},
   "outputs": [],
   "source": []
  }
 ],
 "metadata": {
  "kernelspec": {
   "display_name": "Python 3 (ipykernel)",
   "language": "python",
   "name": "python3"
  },
  "language_info": {
   "codemirror_mode": {
    "name": "ipython",
    "version": 3
   },
   "file_extension": ".py",
   "mimetype": "text/x-python",
   "name": "python",
   "nbconvert_exporter": "python",
   "pygments_lexer": "ipython3",
   "version": "3.10.9"
  }
 },
 "nbformat": 4,
 "nbformat_minor": 5
}
