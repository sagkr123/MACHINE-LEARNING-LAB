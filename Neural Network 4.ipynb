{
 "cells": [
  {
   "cell_type": "code",
   "execution_count": 1,
   "id": "fb6aedf0",
   "metadata": {},
   "outputs": [],
   "source": [
    "\n",
    "import numpy as np"
   ]
  },
  {
   "cell_type": "code",
   "execution_count": 3,
   "id": "ccc8bf51",
   "metadata": {},
   "outputs": [],
   "source": [
    "x = np.array(([2,9],[1,5],[3,6]),dtype=float)\n",
    "y = np.array(([92],[86],[89]),dtype=float)\n",
    "x = x/np.amax(x,axis=0)\n",
    "y=y/100;\n"
   ]
  },
  {
   "cell_type": "code",
   "execution_count": 15,
   "id": "6589afea",
   "metadata": {},
   "outputs": [],
   "source": [
    "def sigmoid(x):\n",
    "    return 1/(1+np.exp(-x))"
   ]
  },
  {
   "cell_type": "code",
   "execution_count": 16,
   "id": "729b0123",
   "metadata": {},
   "outputs": [],
   "source": [
    "def derivatives_sigmoid(x):\n",
    "    return x*(1-x)"
   ]
  },
  {
   "cell_type": "code",
   "execution_count": 17,
   "id": "79a21414",
   "metadata": {},
   "outputs": [],
   "source": [
    "epoch = 500\n",
    "lr = 0.1\n",
    "input_layer_neurons =2\n",
    "hidden_layer_neurons = 3\n",
    "output_neurons = 1\n",
    "wh = np.random.uniform(size = (input_layer_neurons,hidden_layer_neurons))\n",
    "bh = np.random.uniform(size = (1,hidden_layer_neurons))\n",
    "wout = np.random.uniform(size = (hidden_layer_neurons,output_neurons))\n",
    "bout = np.random.uniform(size = (1,output_neurons))"
   ]
  },
  {
   "cell_type": "code",
   "execution_count": 21,
   "id": "2ce24169",
   "metadata": {},
   "outputs": [
    {
     "name": "stdout",
     "output_type": "stream",
     "text": [
      "input :\n",
      "[[0.66666667 1.        ]\n",
      " [0.33333333 0.55555556]\n",
      " [1.         0.66666667]]\n",
      "\n",
      "\n",
      "actual output:\n",
      "\n",
      "[[0.92]\n",
      " [0.86]\n",
      " [0.89]]\n",
      "predicted:\n",
      "\n",
      " [[0.89152642]\n",
      " [0.87794923]\n",
      " [0.89559231]]\n"
     ]
    }
   ],
   "source": [
    "for i in range (epoch):\n",
    "    hinp1 = np.dot(x,wh)\n",
    "    hinp = hinp1+bh\n",
    "    hlayer_act = sigmoid(hinp)\n",
    "    outinp1=np.dot(hlayer_act,wout)\n",
    "    outinp = outinp1 + bout\n",
    "    output = sigmoid(outinp)\n",
    "    E0 = y-output\n",
    "    outgrade = derivatives_sigmoid(output)\n",
    "    d_output = E0*outgrade\n",
    "    EH = d_output.dot(wout.T)\n",
    "    hiddengrade = derivatives_sigmoid(hlayer_act)\n",
    "    d_hidden_layer = EH*hiddengrade\n",
    "    wout += hlayer_act.dot(d_output)*lr\n",
    "print(\"input :\\n\"+str(x))\n",
    "print(\"\\n\")\n",
    "print(\"actual output:\\n\\n\"+str(y))\n",
    "print(\"predicted:\\n\\n\",output)"
   ]
  },
  {
   "cell_type": "code",
   "execution_count": null,
   "id": "9dc0a9ba",
   "metadata": {},
   "outputs": [],
   "source": []
  }
 ],
 "metadata": {
  "kernelspec": {
   "display_name": "Python 3 (ipykernel)",
   "language": "python",
   "name": "python3"
  },
  "language_info": {
   "codemirror_mode": {
    "name": "ipython",
    "version": 3
   },
   "file_extension": ".py",
   "mimetype": "text/x-python",
   "name": "python",
   "nbconvert_exporter": "python",
   "pygments_lexer": "ipython3",
   "version": "3.10.9"
  }
 },
 "nbformat": 4,
 "nbformat_minor": 5
}
